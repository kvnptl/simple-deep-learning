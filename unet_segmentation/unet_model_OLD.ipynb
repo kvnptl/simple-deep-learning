{
 "cells": [
  {
   "cell_type": "code",
   "execution_count": 1,
   "metadata": {},
   "outputs": [],
   "source": [
    "import torch\n",
    "import torch.nn as nn\n",
    "import torchvision"
   ]
  },
  {
   "cell_type": "code",
   "execution_count": 2,
   "metadata": {},
   "outputs": [
    {
     "name": "stdout",
     "output_type": "stream",
     "text": [
      "device: cuda:1\n"
     ]
    }
   ],
   "source": [
    "# device\n",
    "DEVICE = torch.device(\"cuda:1\" if torch.cuda.is_available() else \"cpu\")\n",
    "print(f\"device: {DEVICE}\")"
   ]
  },
  {
   "cell_type": "code",
   "execution_count": 3,
   "metadata": {},
   "outputs": [],
   "source": [
    "class Block(nn.Module):\n",
    "    def __init__(self, in_channels, out_channels):\n",
    "        super().__init__()\n",
    "        self.conv1 = nn.Conv2d(in_channels, out_channels, 3, padding=1) \n",
    "        self.relu = nn.ReLU()\n",
    "        self.conv2 = nn.Conv2d(out_channels, out_channels, 3, padding=1)\n",
    "\n",
    "    def forward(self, x):\n",
    "        x = self.conv1(x)\n",
    "        x = self.relu(x)\n",
    "        x = self.conv2(x)\n",
    "        x = self.relu(x)\n",
    "        return x"
   ]
  },
  {
   "cell_type": "code",
   "execution_count": 4,
   "metadata": {},
   "outputs": [
    {
     "name": "stdout",
     "output_type": "stream",
     "text": [
      "Shape of the encoder block: torch.Size([1, 64, 60, 60])\n"
     ]
    }
   ],
   "source": [
    "# Check the block\n",
    "encoder_block = Block(1, 64)\n",
    "x = torch.rand(1, 1, 60, 60)\n",
    "print(f'Shape of the encoder block: {encoder_block(x).shape}')"
   ]
  },
  {
   "cell_type": "code",
   "execution_count": 5,
   "metadata": {},
   "outputs": [],
   "source": [
    "class Encoder(nn.Module):\n",
    "    def __init__(self, channels=(1, 64, 128, 256, 512)):\n",
    "        super().__init__()\n",
    "        self.encoder_blocks = nn.ModuleList(\n",
    "            [Block(channels[i], channels[i + 1]) for i in range(len(channels) - 1)]\n",
    "        )\n",
    "        self.pool = nn.MaxPool2d(kernel_size=2)\n",
    "\n",
    "    def forward(self, x):\n",
    "        block_outputs = []\n",
    "        for block in self.encoder_blocks:\n",
    "            x = block(x)\n",
    "            block_outputs.append(x)\n",
    "            x = self.pool(x)\n",
    "        return block_outputs"
   ]
  },
  {
   "cell_type": "code",
   "execution_count": 6,
   "metadata": {},
   "outputs": [
    {
     "name": "stdout",
     "output_type": "stream",
     "text": [
      "Shape of the encoder output: torch.Size([1, 64, 60, 60])\n",
      "Shape of the encoder output: torch.Size([1, 128, 30, 30])\n",
      "Shape of the encoder output: torch.Size([1, 256, 15, 15])\n",
      "Shape of the encoder output: torch.Size([1, 512, 7, 7])\n"
     ]
    }
   ],
   "source": [
    "# Check the encoder\n",
    "encoder = Encoder()\n",
    "x = torch.rand(1, 1, 60, 60)\n",
    "encoder_outputs = encoder(x)\n",
    "\n",
    "for op in encoder_outputs:\n",
    "    print(f'Shape of the encoder output: {op.shape}')"
   ]
  },
  {
   "cell_type": "code",
   "execution_count": 7,
   "metadata": {},
   "outputs": [],
   "source": [
    "class Decoder(nn.Module):\n",
    "    def __init__(self, channels=(512, 256, 128, 64)):\n",
    "        super().__init__()\n",
    "        self.channels = channels\n",
    "        self.decoder_blocks = nn.ModuleList(\n",
    "            [Block(channels[i], channels[i + 1]) for i in range(len(channels) - 1)]\n",
    "        )\n",
    "        self.upconvolution = nn.ModuleList(\n",
    "            [nn.ConvTranspose2d(channels[i], channels[i + 1], kernel_size=2, stride=2) for i in range(len(channels) - 1)]\n",
    "        )\n",
    "\n",
    "    def forward(self, x, encoder_outputs):\n",
    "        for i in range(len(self.channels) - 1):\n",
    "            x = self.upconvolution[i](x)\n",
    "            encoder_output = self.crop(encoder_outputs[i], x)\n",
    "            x = torch.cat([x, encoder_output], dim=1)\n",
    "            x = self.decoder_blocks[i](x)\n",
    "        return x\n",
    "\n",
    "    # Following the paper, we crop the encoder output to match the shape of decoder output    \n",
    "    def crop(self, encoder_output, tensor):\n",
    "        _, _, H, W = tensor.shape\n",
    "        encoder_output = torchvision.transforms.CenterCrop([H, W])(encoder_output)\n",
    "        return encoder_output"
   ]
  },
  {
   "cell_type": "code",
   "execution_count": 8,
   "metadata": {},
   "outputs": [
    {
     "name": "stdout",
     "output_type": "stream",
     "text": [
      "Shape of the decoder output: torch.Size([1, 64, 56, 56])\n"
     ]
    }
   ],
   "source": [
    "# Check the decoder\n",
    "decoder = Decoder()\n",
    "x = torch.rand(1, 512, 7, 7)\n",
    "decoder(x, encoder_outputs[::-1][1:]) # Pass the encoder outputs in reverse order\n",
    "print(f'Shape of the decoder output: {decoder(x, encoder_outputs[::-1][1:]).shape}')"
   ]
  },
  {
   "cell_type": "markdown",
   "metadata": {},
   "source": [
    "### UNet model\n",
    "\n",
    "<p align=\"center\">\n",
    "  <img src=\"https://lmb.informatik.uni-freiburg.de/people/ronneber/u-net/u-net-architecture.png\" width=45% />\n",
    "</p>\n",
    "\n",
    "Reference: https://lmb.informatik.uni-freiburg.de/people/ronneber/u-net"
   ]
  },
  {
   "cell_type": "code",
   "execution_count": 9,
   "metadata": {},
   "outputs": [],
   "source": [
    "class UNet(nn.Module):\n",
    "    def __init__(self, encoder_channels=(1, 64, 128, 256, 512), decoder_channels=(512, 256, 128, 64), num_classes=5, retain_dim=False, output_size=(60, 60)):\n",
    "        super().__init__()\n",
    "        self.encoder = Encoder(encoder_channels)\n",
    "        self.decoder = Decoder(decoder_channels)\n",
    "        self.head = nn.Conv2d(decoder_channels[-1], 1, kernel_size=1)\n",
    "        self.retain_dim = retain_dim\n",
    "        self.output_size = output_size\n",
    "\n",
    "    def forward(self, x):\n",
    "        encoder_outputs = self.encoder(x)\n",
    "        out = self.decoder(encoder_outputs[-1], encoder_outputs[::-1][1:])\n",
    "        out = self.head(out)\n",
    "        if self.retain_dim:\n",
    "            out = nn.functional.interpolate(out, self.output_size)\n",
    "        return out"
   ]
  },
  {
   "cell_type": "code",
   "execution_count": 10,
   "metadata": {},
   "outputs": [
    {
     "name": "stdout",
     "output_type": "stream",
     "text": [
      "Shape of the model output: torch.Size([1, 1, 60, 60])\n"
     ]
    }
   ],
   "source": [
    "# Check the model\n",
    "model = UNet(retain_dim=True)\n",
    "x = torch.rand(1, 1, 60, 60)\n",
    "out = model(x)\n",
    "print(f'Shape of the model output: {out.shape}')"
   ]
  },
  {
   "cell_type": "markdown",
   "metadata": {},
   "source": [
    "### Import libraries"
   ]
  },
  {
   "cell_type": "code",
   "execution_count": 11,
   "metadata": {},
   "outputs": [
    {
     "name": "stderr",
     "output_type": "stream",
     "text": [
      "2024-04-15 06:20:33.128014: I external/local_tsl/tsl/cuda/cudart_stub.cc:32] Could not find cuda drivers on your machine, GPU will not be used.\n",
      "2024-04-15 06:20:33.167276: I tensorflow/core/platform/cpu_feature_guard.cc:210] This TensorFlow binary is optimized to use available CPU instructions in performance-critical operations.\n",
      "To enable the following instructions: AVX2 FMA, in other operations, rebuild TensorFlow with the appropriate compiler flags.\n",
      "2024-04-15 06:20:34.085216: W tensorflow/compiler/tf2tensorrt/utils/py_utils.cc:38] TF-TRT Warning: Could not find TensorRT\n"
     ]
    },
    {
     "data": {
      "text/plain": [
       "<module 'dataset_generation' from '/home/kpatel2s/work/bmw/unet_task_3/sdp/unet_segmentation/dataset_generation.py'>"
      ]
     },
     "execution_count": 11,
     "metadata": {},
     "output_type": "execute_result"
    }
   ],
   "source": [
    "import os\n",
    "import numpy as np\n",
    "import random\n",
    "import matplotlib.pyplot as plt\n",
    "from torchinfo import summary\n",
    "import cv2\n",
    "from typing import List, Tuple\n",
    "from PIL import Image\n",
    "import imutils\n",
    "from pathlib import Path\n",
    "import pprint\n",
    "\n",
    "import torchmetrics\n",
    "\n",
    "import config\n",
    "import dataset_generation\n",
    "import utils\n",
    "\n",
    "import importlib\n",
    "importlib.reload(dataset_generation)"
   ]
  },
  {
   "cell_type": "markdown",
   "metadata": {},
   "source": [
    "### Load hyperparameters"
   ]
  },
  {
   "cell_type": "code",
   "execution_count": 12,
   "metadata": {},
   "outputs": [],
   "source": [
    "NUM_WORKERS = config.NUM_WORKERS\n",
    "BATCH_SIZE = config.BATCH_SIZE\n",
    "PIN_MEMORY = config.PIN_MEMORY\n",
    "\n",
    "num_classes = config.NUM_CLASSES\n",
    "\n",
    "EPOCHS = config.EPOCHS\n",
    "LR_RATE = config.LR_RATE\n",
    "\n",
    "TRAIN_VAL_SPLIT = config.TRAIN_VAL_SPLIT"
   ]
  },
  {
   "cell_type": "markdown",
   "metadata": {},
   "source": [
    "### Load the dataset"
   ]
  },
  {
   "cell_type": "code",
   "execution_count": 13,
   "metadata": {},
   "outputs": [
    {
     "name": "stdout",
     "output_type": "stream",
     "text": [
      "Loading mnist dataset...\n",
      "Processing mnist dataset...\n",
      "Dataset ready!\n",
      "Shape of train_x: (1000, 60, 60, 1)\n",
      "Shape of train_y: (1000, 60, 60, 5)\n"
     ]
    }
   ],
   "source": [
    "train_x, train_y, test_x, test_y = dataset_generation.mnist_extended_dataset(total_train_samples=1000, total_test_samples=100, num_classes=num_classes)\n",
    "\n",
    "print(f'Shape of train_x: {train_x.shape}')\n",
    "print(f'Shape of train_y: {train_y.shape}')"
   ]
  },
  {
   "cell_type": "markdown",
   "metadata": {},
   "source": [
    "### Create data loaders"
   ]
  },
  {
   "cell_type": "code",
   "execution_count": 14,
   "metadata": {},
   "outputs": [
    {
     "name": "stdout",
     "output_type": "stream",
     "text": [
      "Shape of train_y (one-hot): (1000, 60, 60, 5)\n",
      "Shape of train_y_cls (class indices): (1000, 60, 60)\n",
      "Shape of test_y (one-hot): (100, 60, 60, 5)\n",
      "Shape of test_y_cls (class indices): (100, 60, 60)\n"
     ]
    }
   ],
   "source": [
    "# Convert ground truth labels from one-hot encoding to class indices\n",
    "train_y_cls = np.argmax(train_y, axis=-1)\n",
    "test_y_cls = np.argmax(test_y, axis=-1)\n",
    "train_y_cls += 1\n",
    "test_y_cls += 1\n",
    "\n",
    "train_background_mask = np.sum(train_y, axis=-1) == 0\n",
    "test_background_mask = np.sum(test_y, axis=-1) == 0\n",
    "\n",
    "train_y_cls[train_background_mask] = 0\n",
    "test_y_cls[test_background_mask] = 0\n",
    "\n",
    "print(f'Shape of train_y (one-hot): {train_y.shape}')\n",
    "print(f'Shape of train_y_cls (class indices): {train_y_cls.shape}')\n",
    "\n",
    "print(f'Shape of test_y (one-hot): {test_y.shape}')\n",
    "print(f'Shape of test_y_cls (class indices): {test_y_cls.shape}')"
   ]
  },
  {
   "cell_type": "code",
   "execution_count": 15,
   "metadata": {},
   "outputs": [
    {
     "name": "stdout",
     "output_type": "stream",
     "text": [
      "Shape of train_data: 900\n",
      "Shape of val_data: 100\n",
      "Shape of test_data: 100\n"
     ]
    }
   ],
   "source": [
    "from torch.utils.data import random_split\n",
    "\n",
    "# Convert numpy arrays to PyTorch tensors\n",
    "train_x, test_x = [torch.tensor(arr, dtype=torch.float32) for arr in [train_x, test_x]]\n",
    "train_y_cls, test_y_cls = [torch.tensor(arr, dtype=torch.long) for arr in [train_y_cls, test_y_cls]]\n",
    "\n",
    "train_data = list(zip(train_x, train_y_cls))\n",
    "test_data = list(zip(test_x, test_y_cls))\n",
    "\n",
    "# Divide the train data into train and validation sets\n",
    "train_data_len = len(train_data)\n",
    "train_data_len = int(train_data_len * TRAIN_VAL_SPLIT)\n",
    "train_data, val_data = random_split(train_data, [train_data_len, len(train_data) - train_data_len])\n",
    "\n",
    "print(f'Shape of train_data: {len(train_data)}')\n",
    "print(f'Shape of val_data: {len(val_data)}')\n",
    "print(f'Shape of test_data: {len(test_data)}')"
   ]
  },
  {
   "cell_type": "code",
   "execution_count": 16,
   "metadata": {},
   "outputs": [
    {
     "name": "stdout",
     "output_type": "stream",
     "text": [
      "Number of train batches: 29\n",
      "Number of val batches: 4\n",
      "Number of test batches: 100\n"
     ]
    }
   ],
   "source": [
    "from torch.utils.data import DataLoader\n",
    "\n",
    "train_loader = DataLoader(dataset=train_data, \n",
    "                          batch_size=BATCH_SIZE, \n",
    "                          shuffle=True, \n",
    "                          num_workers=NUM_WORKERS, \n",
    "                          pin_memory=PIN_MEMORY)\n",
    "\n",
    "val_loader = DataLoader(dataset=val_data,\n",
    "                        batch_size=BATCH_SIZE,\n",
    "                        shuffle=False,\n",
    "                        num_workers=NUM_WORKERS,\n",
    "                        pin_memory=PIN_MEMORY)\n",
    "\n",
    "test_loader = DataLoader(dataset=test_data, \n",
    "                         batch_size=1, \n",
    "                         shuffle=False, \n",
    "                         num_workers=NUM_WORKERS, \n",
    "                         pin_memory=PIN_MEMORY)\n",
    "\n",
    "print(f'Number of train batches: {len(train_loader)}')\n",
    "print(f'Number of val batches: {len(val_loader)}')\n",
    "print(f'Number of test batches: {len(test_loader)}')"
   ]
  },
  {
   "cell_type": "code",
   "execution_count": 17,
   "metadata": {},
   "outputs": [
    {
     "name": "stdout",
     "output_type": "stream",
     "text": [
      "Shape of train_x_sample: torch.Size([60, 60, 1])\n",
      "Shape of train_y_sample: torch.Size([60, 60])\n",
      "Min and max of train_y_sample: 0, 5\n"
     ]
    }
   ],
   "source": [
    "# Get a train input and output pair\n",
    "i = np.random.randint(0, 500)\n",
    "train_x_sample, train_y_sample = train_loader.dataset[i]\n",
    "print(f'Shape of train_x_sample: {train_x_sample.shape}')\n",
    "print(f'Shape of train_y_sample: {train_y_sample.shape}')\n",
    "\n",
    "# get min and max of train y\n",
    "train_y_min, train_y_max = train_y_sample.min(), train_y_sample.max()\n",
    "print(f'Min and max of train_y_sample: {train_y_min}, {train_y_max}')"
   ]
  },
  {
   "cell_type": "code",
   "execution_count": 18,
   "metadata": {},
   "outputs": [
    {
     "data": {
      "text/plain": [
       "(torch.float32, torch.int64)"
      ]
     },
     "execution_count": 18,
     "metadata": {},
     "output_type": "execute_result"
    }
   ],
   "source": [
    "train_x_sample.dtype, train_y_sample.dtype"
   ]
  },
  {
   "cell_type": "markdown",
   "metadata": {},
   "source": [
    "### Visualize the dataset"
   ]
  },
  {
   "cell_type": "code",
   "execution_count": 26,
   "metadata": {},
   "outputs": [
    {
     "data": {
      "image/png": "[encoded data removed]",
      "text/plain": [
       "<Figure size 500x500 with 6 Axes>"
      ]
     },
     "metadata": {},
     "output_type": "display_data"
    }
   ],
   "source": [
    "from matplotlib.colors import ListedColormap\n",
    "\n",
    "# Create a colormap with specific colors for each class\n",
    "colors = ['white', 'orange', 'red', 'green', 'blue', 'cyan']  # colors for classes 0 to 5\n",
    "cmap = ListedColormap(colors)\n",
    "\n",
    "# Sample indices for visualization\n",
    "random_indices = np.random.choice(len(train_loader.dataset), size=6, replace=False)\n",
    "\n",
    "# Create a figure with 3 rows and 2 columns\n",
    "fig, axs = plt.subplots(3, 2, figsize=(5, 5))  # Adjust the figure size as needed\n",
    "\n",
    "for i, ax in enumerate(axs.flat):\n",
    "    idx = random_indices[i // 2]  # Integer division to ensure pairs\n",
    "    data = train_loader.dataset[idx]\n",
    "\n",
    "    if i % 2 == 0:  # Even indices for original images\n",
    "        image = data[0]  # Assuming this is the input image\n",
    "        ax.imshow(image, cmap=plt.cm.binary)  # Correctly order the dimensions if needed\n",
    "        ax.set_title(\"Original Image\")\n",
    "    else:  # Odd indices for segmented images\n",
    "        segmentation = data[1]  # Assuming this is the segmentation mask\n",
    "        ax.imshow(segmentation, cmap=cmap, interpolation='none', vmin=0, vmax=5)  # Apply the predefined colormap\n",
    "        ax.set_title(\"Segmented Image\")\n",
    "\n",
    "    ax.set_xticks([])\n",
    "    ax.set_yticks([])\n",
    "    ax.set_aspect('equal')\n",
    "\n",
    "fig.suptitle('Input and Segmented Images', fontsize=16)\n",
    "plt.tight_layout()\n",
    "plt.show()"
   ]
  },
  {
   "cell_type": "markdown",
   "metadata": {},
   "source": [
    "### Load the model"
   ]
  },
  {
   "cell_type": "code",
   "execution_count": 27,
   "metadata": {},
   "outputs": [],
   "source": [
    "unet_model = UNet(retain_dim=True, num_classes=num_classes, output_size=(60, 60)).to(DEVICE)"
   ]
  },
  {
   "cell_type": "code",
   "execution_count": 28,
   "metadata": {},
   "outputs": [
    {
     "data": {
      "text/plain": [
       "========================================================================================================================\n",
       "Layer (type (var_name))                  Input Shape          Output Shape         Param #              Trainable\n",
       "========================================================================================================================\n",
       "UNet (UNet)                              [1, 1, 60, 60]       [1, 1, 60, 60]       --                   True\n",
       "├─Encoder (encoder)                      [1, 1, 60, 60]       [1, 64, 60, 60]      --                   True\n",
       "│    └─ModuleList (encoder_blocks)       --                   --                   (recursive)          True\n",
       "│    │    └─Block (0)                    [1, 1, 60, 60]       [1, 64, 60, 60]      --                   True\n",
       "│    │    │    └─Conv2d (conv1)          [1, 1, 60, 60]       [1, 64, 60, 60]      640                  True\n",
       "│    │    │    └─ReLU (relu)             [1, 64, 60, 60]      [1, 64, 60, 60]      --                   --\n",
       "│    │    │    └─Conv2d (conv2)          [1, 64, 60, 60]      [1, 64, 60, 60]      36,928               True\n",
       "│    │    │    └─ReLU (relu)             [1, 64, 60, 60]      [1, 64, 60, 60]      --                   --\n",
       "│    └─MaxPool2d (pool)                  [1, 64, 60, 60]      [1, 64, 30, 30]      --                   --\n",
       "│    └─ModuleList (encoder_blocks)       --                   --                   (recursive)          True\n",
       "│    │    └─Block (1)                    [1, 64, 30, 30]      [1, 128, 30, 30]     --                   True\n",
       "│    │    │    └─Conv2d (conv1)          [1, 64, 30, 30]      [1, 128, 30, 30]     73,856               True\n",
       "│    │    │    └─ReLU (relu)             [1, 128, 30, 30]     [1, 128, 30, 30]     --                   --\n",
       "│    │    │    └─Conv2d (conv2)          [1, 128, 30, 30]     [1, 128, 30, 30]     147,584              True\n",
       "│    │    │    └─ReLU (relu)             [1, 128, 30, 30]     [1, 128, 30, 30]     --                   --\n",
       "│    └─MaxPool2d (pool)                  [1, 128, 30, 30]     [1, 128, 15, 15]     --                   --\n",
       "│    └─ModuleList (encoder_blocks)       --                   --                   (recursive)          True\n",
       "│    │    └─Block (2)                    [1, 128, 15, 15]     [1, 256, 15, 15]     --                   True\n",
       "│    │    │    └─Conv2d (conv1)          [1, 128, 15, 15]     [1, 256, 15, 15]     295,168              True\n",
       "│    │    │    └─ReLU (relu)             [1, 256, 15, 15]     [1, 256, 15, 15]     --                   --\n",
       "│    │    │    └─Conv2d (conv2)          [1, 256, 15, 15]     [1, 256, 15, 15]     590,080              True\n",
       "│    │    │    └─ReLU (relu)             [1, 256, 15, 15]     [1, 256, 15, 15]     --                   --\n",
       "│    └─MaxPool2d (pool)                  [1, 256, 15, 15]     [1, 256, 7, 7]       --                   --\n",
       "│    └─ModuleList (encoder_blocks)       --                   --                   (recursive)          True\n",
       "│    │    └─Block (3)                    [1, 256, 7, 7]       [1, 512, 7, 7]       --                   True\n",
       "│    │    │    └─Conv2d (conv1)          [1, 256, 7, 7]       [1, 512, 7, 7]       1,180,160            True\n",
       "│    │    │    └─ReLU (relu)             [1, 512, 7, 7]       [1, 512, 7, 7]       --                   --\n",
       "│    │    │    └─Conv2d (conv2)          [1, 512, 7, 7]       [1, 512, 7, 7]       2,359,808            True\n",
       "│    │    │    └─ReLU (relu)             [1, 512, 7, 7]       [1, 512, 7, 7]       --                   --\n",
       "│    └─MaxPool2d (pool)                  [1, 512, 7, 7]       [1, 512, 3, 3]       --                   --\n",
       "├─Decoder (decoder)                      [1, 512, 7, 7]       [1, 64, 56, 56]      --                   True\n",
       "│    └─ModuleList (upconvolution)        --                   --                   (recursive)          True\n",
       "│    │    └─ConvTranspose2d (0)          [1, 512, 7, 7]       [1, 256, 14, 14]     524,544              True\n",
       "│    └─ModuleList (decoder_blocks)       --                   --                   (recursive)          True\n",
       "│    │    └─Block (0)                    [1, 512, 14, 14]     [1, 256, 14, 14]     --                   True\n",
       "│    │    │    └─Conv2d (conv1)          [1, 512, 14, 14]     [1, 256, 14, 14]     1,179,904            True\n",
       "│    │    │    └─ReLU (relu)             [1, 256, 14, 14]     [1, 256, 14, 14]     --                   --\n",
       "│    │    │    └─Conv2d (conv2)          [1, 256, 14, 14]     [1, 256, 14, 14]     590,080              True\n",
       "│    │    │    └─ReLU (relu)             [1, 256, 14, 14]     [1, 256, 14, 14]     --                   --\n",
       "│    └─ModuleList (upconvolution)        --                   --                   (recursive)          True\n",
       "│    │    └─ConvTranspose2d (1)          [1, 256, 14, 14]     [1, 128, 28, 28]     131,200              True\n",
       "│    └─ModuleList (decoder_blocks)       --                   --                   (recursive)          True\n",
       "│    │    └─Block (1)                    [1, 256, 28, 28]     [1, 128, 28, 28]     --                   True\n",
       "│    │    │    └─Conv2d (conv1)          [1, 256, 28, 28]     [1, 128, 28, 28]     295,040              True\n",
       "│    │    │    └─ReLU (relu)             [1, 128, 28, 28]     [1, 128, 28, 28]     --                   --\n",
       "│    │    │    └─Conv2d (conv2)          [1, 128, 28, 28]     [1, 128, 28, 28]     147,584              True\n",
       "│    │    │    └─ReLU (relu)             [1, 128, 28, 28]     [1, 128, 28, 28]     --                   --\n",
       "│    └─ModuleList (upconvolution)        --                   --                   (recursive)          True\n",
       "│    │    └─ConvTranspose2d (2)          [1, 128, 28, 28]     [1, 64, 56, 56]      32,832               True\n",
       "│    └─ModuleList (decoder_blocks)       --                   --                   (recursive)          True\n",
       "│    │    └─Block (2)                    [1, 128, 56, 56]     [1, 64, 56, 56]      --                   True\n",
       "│    │    │    └─Conv2d (conv1)          [1, 128, 56, 56]     [1, 64, 56, 56]      73,792               True\n",
       "│    │    │    └─ReLU (relu)             [1, 64, 56, 56]      [1, 64, 56, 56]      --                   --\n",
       "│    │    │    └─Conv2d (conv2)          [1, 64, 56, 56]      [1, 64, 56, 56]      36,928               True\n",
       "│    │    │    └─ReLU (relu)             [1, 64, 56, 56]      [1, 64, 56, 56]      --                   --\n",
       "├─Conv2d (head)                          [1, 64, 56, 56]      [1, 1, 56, 56]       65                   True\n",
       "========================================================================================================================\n",
       "Total params: 7,696,193\n",
       "Trainable params: 7,696,193\n",
       "Non-trainable params: 0\n",
       "Total mult-adds (G): 2.06\n",
       "========================================================================================================================\n",
       "Input size (MB): 0.01\n",
       "Forward/backward pass size (MB): 15.31\n",
       "Params size (MB): 30.78\n",
       "Estimated Total Size (MB): 46.11\n",
       "========================================================================================================================"
      ]
     },
     "execution_count": 28,
     "metadata": {},
     "output_type": "execute_result"
    }
   ],
   "source": [
    "# Model summary\n",
    "summary(model=unet_model,\n",
    "        input_size=(1, 1, 60, 60),\n",
    "        col_names=[\"input_size\", \"output_size\", \"num_params\", \"trainable\"],\n",
    "        col_width=20,\n",
    "        row_settings=[\"var_names\"],\n",
    "        depth=5\n",
    "        )"
   ]
  },
  {
   "cell_type": "markdown",
   "metadata": {},
   "source": [
    "### Loss function and optimizer"
   ]
  },
  {
   "cell_type": "code",
   "execution_count": 29,
   "metadata": {},
   "outputs": [],
   "source": [
    "loss_fn = nn.CrossEntropyLoss()\n",
    "optimizer = torch.optim.Adam(unet_model.parameters(), lr=LR_RATE)"
   ]
  },
  {
   "cell_type": "markdown",
   "metadata": {},
   "source": [
    "### Training loop"
   ]
  },
  {
   "cell_type": "code",
   "execution_count": 47,
   "metadata": {},
   "outputs": [
    {
     "name": "stdout",
     "output_type": "stream",
     "text": [
      "Shape of x: torch.Size([32, 1, 60, 60]) and Type of x: torch.float32\n",
      "Shape of y: torch.Size([32, 1, 60, 60]) and Type of y: torch.float32\n",
      "Shape of y_pred: torch.Size([32, 1, 60, 60]) and Type of y_pred: torch.float32\n",
      "Total training time: 1.26 seconds\n"
     ]
    }
   ],
   "source": [
    "utils.set_seed()\n",
    "\n",
    "from timeit import default_timer as timer\n",
    "start_time = timer()\n",
    "\n",
    "# Store train and validation losses\n",
    "train_losses = []\n",
    "val_losses = []\n",
    "\n",
    "for epoch in range(EPOCHS):\n",
    "\n",
    "    unet_model.train()\n",
    "    train_loss = []\n",
    "\n",
    "    for idx, (x, y) in enumerate(train_loader):\n",
    "        x = x.to(DEVICE).permute(0, 3, 1, 2)\n",
    "\n",
    "        print(f'Before Shape of x: {y.shape} and Type of x: {y.dtype}')\n",
    "\n",
    "        y = y.to(DEVICE).unsqueeze(1).float()\n",
    "\n",
    "        print(f'Shape of x: {x.shape} and Type of x: {x.dtype}')\n",
    "        print(f'After Shape of y: {y.shape} and Type of y: {y.dtype}')\n",
    "\n",
    "        y_pred = unet_model(x)\n",
    "\n",
    "        print(f'Shape of y_pred: {y_pred.shape} and Type of y_pred: {y_pred.dtype}')\n",
    "\n",
    "        break\n",
    "\n",
    "        loss = loss_fn(y_pred, y)\n",
    "\n",
    "        optimizer.zero_grad()\n",
    "        loss.backward()\n",
    "        optimizer.step()\n",
    "\n",
    "        train_loss.append(loss.item())\n",
    "\n",
    "    break\n",
    "    val_loss = []\n",
    "\n",
    "    with torch.no_grad():\n",
    "        unet_model.eval()\n",
    "        for idx, (x, y) in enumerate(val_loader):\n",
    "            x = x.to(DEVICE).permute(0, 3, 1, 2)\n",
    "            y = y.to(DEVICE).unsqueeze(1).float()\n",
    "\n",
    "            y_pred = unet_model(x)\n",
    "            loss = loss_fn(y_pred, y)\n",
    "\n",
    "            val_loss.append(loss.item())\n",
    "    \n",
    "    print(f'Epoch: {epoch + 1} / {EPOCHS}, Train Loss: {np.mean(train_loss):.5f}, Val Loss: {np.mean(val_loss):.5f}')\n",
    "\n",
    "    train_losses.append(np.mean(train_loss))\n",
    "    val_losses.append(np.mean(val_loss))\n",
    "    \n",
    "\n",
    "end_time = timer()\n",
    "print(f'Total training time: {end_time - start_time:.2f} seconds')"
   ]
  },
  {
   "cell_type": "markdown",
   "metadata": {},
   "source": [
    "### Plot losses"
   ]
  },
  {
   "cell_type": "code",
   "execution_count": null,
   "metadata": {},
   "outputs": [],
   "source": [
    "# Plot train and validation loss over epochs\n",
    "plt.plot(train_losses, label='train')\n",
    "plt.plot(val_losses, label='val')\n",
    "plt.legend()\n",
    "plt.title('Loss over epochs')\n",
    "plt.xlabel('Epoch')\n",
    "plt.ylabel('Loss')\n",
    "plt.grid()\n",
    "plt.tight_layout()\n",
    "plt.show()"
   ]
  },
  {
   "cell_type": "markdown",
   "metadata": {},
   "source": [
    "### Calculate mean IoU"
   ]
  },
  {
   "cell_type": "code",
   "execution_count": null,
   "metadata": {},
   "outputs": [],
   "source": [
    "import torchmetrics\n",
    "\n",
    "# Calculate mean IoU\n",
    "iou_metric = torchmetrics.JaccardIndex(task='multiclass', num_classes=num_classes).to(DEVICE)\n",
    "unet_model.eval()\n",
    "with torch.no_grad():\n",
    "    iou_metric.reset()\n",
    "    for idx, (x, y) in enumerate(test_loader):\n",
    "        x = x.to(DEVICE).permute(0, 3, 1, 2)\n",
    "        y = y.to(DEVICE).permute(0, 3, 1, 2)\n",
    "\n",
    "        y_logits = unet_model(x)\n",
    "\n",
    "        print(f'Shape of y_logits: {y_logits.shape}')\n",
    "\n",
    "        y_pred = torch.softmax(y_logits, dim=1)\n",
    "\n",
    "        print(f'Shape of y_pred softmax: {y_pred.shape}')\n",
    "        # y_pred = torch.argmax(y_pred, dim=1)\n",
    "\n",
    "        print(f'Shape of y_pred argmax: {y_pred.shape}')\n",
    "\n",
    "        iou_metric(y_pred, y)\n",
    "\n",
    "        # Show progress\n",
    "        print(f'\\rProcessing image {idx + 1}/{len(test_loader)}', end='')\n",
    "        break\n",
    "    \n",
    "    print(f'Mean IoU: {iou_metric.compute():.5f}')\n",
    "\n",
    "    iou_metric.reset()"
   ]
  },
  {
   "cell_type": "code",
   "execution_count": null,
   "metadata": {},
   "outputs": [],
   "source": []
  }
 ],
 "metadata": {
  "kernelspec": {
   "display_name": "unet_training",
   "language": "python",
   "name": "python3"
  },
  "language_info": {
   "codemirror_mode": {
    "name": "ipython",
    "version": 3
   },
   "file_extension": ".py",
   "mimetype": "text/x-python",
   "name": "python",
   "nbconvert_exporter": "python",
   "pygments_lexer": "ipython3",
   "version": "3.10.14"
  }
 },
 "nbformat": 4,
 "nbformat_minor": 2
}
